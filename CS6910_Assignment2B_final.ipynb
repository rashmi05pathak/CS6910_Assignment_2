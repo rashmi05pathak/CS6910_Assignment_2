{
  "nbformat": 4,
  "nbformat_minor": 0,
  "metadata": {
    "colab": {
      "name": "CS6910_Assignment2B_final.ipynb",
      "provenance": [],
      "collapsed_sections": [],
      "include_colab_link": true
    },
    "kernelspec": {
      "display_name": "Python 3",
      "name": "python3"
    },
    "language_info": {
      "name": "python"
    },
    "widgets": {
      "application/vnd.jupyter.widget-state+json": {
        "4c178e99221d467eb8e839bf461b2677": {
          "model_module": "@jupyter-widgets/controls",
          "model_name": "VBoxModel",
          "model_module_version": "1.5.0",
          "state": {
            "_dom_classes": [],
            "_model_module": "@jupyter-widgets/controls",
            "_model_module_version": "1.5.0",
            "_model_name": "VBoxModel",
            "_view_count": null,
            "_view_module": "@jupyter-widgets/controls",
            "_view_module_version": "1.5.0",
            "_view_name": "VBoxView",
            "box_style": "",
            "children": [
              "IPY_MODEL_0e9fcf20d2874512b9064268a4338ad4",
              "IPY_MODEL_a304c1f572804d7abd4dace8194b0631"
            ],
            "layout": "IPY_MODEL_0427bfa8d64f4a75813224cc18a6814d"
          }
        },
        "0e9fcf20d2874512b9064268a4338ad4": {
          "model_module": "@jupyter-widgets/controls",
          "model_name": "LabelModel",
          "model_module_version": "1.5.0",
          "state": {
            "_dom_classes": [],
            "_model_module": "@jupyter-widgets/controls",
            "_model_module_version": "1.5.0",
            "_model_name": "LabelModel",
            "_view_count": null,
            "_view_module": "@jupyter-widgets/controls",
            "_view_module_version": "1.5.0",
            "_view_name": "LabelView",
            "description": "",
            "description_tooltip": null,
            "layout": "IPY_MODEL_16d6573cadf2478cb3ee1549c4122753",
            "placeholder": "​",
            "style": "IPY_MODEL_c8f1ef7a7df14bd7b835b330c9793215",
            "value": ""
          }
        },
        "a304c1f572804d7abd4dace8194b0631": {
          "model_module": "@jupyter-widgets/controls",
          "model_name": "FloatProgressModel",
          "model_module_version": "1.5.0",
          "state": {
            "_dom_classes": [],
            "_model_module": "@jupyter-widgets/controls",
            "_model_module_version": "1.5.0",
            "_model_name": "FloatProgressModel",
            "_view_count": null,
            "_view_module": "@jupyter-widgets/controls",
            "_view_module_version": "1.5.0",
            "_view_name": "ProgressView",
            "bar_style": "",
            "description": "",
            "description_tooltip": null,
            "layout": "IPY_MODEL_7ed98516da3246359cebf95a2b4e6ed7",
            "max": 1,
            "min": 0,
            "orientation": "horizontal",
            "style": "IPY_MODEL_f1e6a05adf364655aec3db8298b3e6f7",
            "value": 0
          }
        },
        "0427bfa8d64f4a75813224cc18a6814d": {
          "model_module": "@jupyter-widgets/base",
          "model_name": "LayoutModel",
          "model_module_version": "1.2.0",
          "state": {
            "_model_module": "@jupyter-widgets/base",
            "_model_module_version": "1.2.0",
            "_model_name": "LayoutModel",
            "_view_count": null,
            "_view_module": "@jupyter-widgets/base",
            "_view_module_version": "1.2.0",
            "_view_name": "LayoutView",
            "align_content": null,
            "align_items": null,
            "align_self": null,
            "border": null,
            "bottom": null,
            "display": null,
            "flex": null,
            "flex_flow": null,
            "grid_area": null,
            "grid_auto_columns": null,
            "grid_auto_flow": null,
            "grid_auto_rows": null,
            "grid_column": null,
            "grid_gap": null,
            "grid_row": null,
            "grid_template_areas": null,
            "grid_template_columns": null,
            "grid_template_rows": null,
            "height": null,
            "justify_content": null,
            "justify_items": null,
            "left": null,
            "margin": null,
            "max_height": null,
            "max_width": null,
            "min_height": null,
            "min_width": null,
            "object_fit": null,
            "object_position": null,
            "order": null,
            "overflow": null,
            "overflow_x": null,
            "overflow_y": null,
            "padding": null,
            "right": null,
            "top": null,
            "visibility": null,
            "width": null
          }
        },
        "16d6573cadf2478cb3ee1549c4122753": {
          "model_module": "@jupyter-widgets/base",
          "model_name": "LayoutModel",
          "model_module_version": "1.2.0",
          "state": {
            "_model_module": "@jupyter-widgets/base",
            "_model_module_version": "1.2.0",
            "_model_name": "LayoutModel",
            "_view_count": null,
            "_view_module": "@jupyter-widgets/base",
            "_view_module_version": "1.2.0",
            "_view_name": "LayoutView",
            "align_content": null,
            "align_items": null,
            "align_self": null,
            "border": null,
            "bottom": null,
            "display": null,
            "flex": null,
            "flex_flow": null,
            "grid_area": null,
            "grid_auto_columns": null,
            "grid_auto_flow": null,
            "grid_auto_rows": null,
            "grid_column": null,
            "grid_gap": null,
            "grid_row": null,
            "grid_template_areas": null,
            "grid_template_columns": null,
            "grid_template_rows": null,
            "height": null,
            "justify_content": null,
            "justify_items": null,
            "left": null,
            "margin": null,
            "max_height": null,
            "max_width": null,
            "min_height": null,
            "min_width": null,
            "object_fit": null,
            "object_position": null,
            "order": null,
            "overflow": null,
            "overflow_x": null,
            "overflow_y": null,
            "padding": null,
            "right": null,
            "top": null,
            "visibility": null,
            "width": null
          }
        },
        "c8f1ef7a7df14bd7b835b330c9793215": {
          "model_module": "@jupyter-widgets/controls",
          "model_name": "DescriptionStyleModel",
          "model_module_version": "1.5.0",
          "state": {
            "_model_module": "@jupyter-widgets/controls",
            "_model_module_version": "1.5.0",
            "_model_name": "DescriptionStyleModel",
            "_view_count": null,
            "_view_module": "@jupyter-widgets/base",
            "_view_module_version": "1.2.0",
            "_view_name": "StyleView",
            "description_width": ""
          }
        },
        "7ed98516da3246359cebf95a2b4e6ed7": {
          "model_module": "@jupyter-widgets/base",
          "model_name": "LayoutModel",
          "model_module_version": "1.2.0",
          "state": {
            "_model_module": "@jupyter-widgets/base",
            "_model_module_version": "1.2.0",
            "_model_name": "LayoutModel",
            "_view_count": null,
            "_view_module": "@jupyter-widgets/base",
            "_view_module_version": "1.2.0",
            "_view_name": "LayoutView",
            "align_content": null,
            "align_items": null,
            "align_self": null,
            "border": null,
            "bottom": null,
            "display": null,
            "flex": null,
            "flex_flow": null,
            "grid_area": null,
            "grid_auto_columns": null,
            "grid_auto_flow": null,
            "grid_auto_rows": null,
            "grid_column": null,
            "grid_gap": null,
            "grid_row": null,
            "grid_template_areas": null,
            "grid_template_columns": null,
            "grid_template_rows": null,
            "height": null,
            "justify_content": null,
            "justify_items": null,
            "left": null,
            "margin": null,
            "max_height": null,
            "max_width": null,
            "min_height": null,
            "min_width": null,
            "object_fit": null,
            "object_position": null,
            "order": null,
            "overflow": null,
            "overflow_x": null,
            "overflow_y": null,
            "padding": null,
            "right": null,
            "top": null,
            "visibility": null,
            "width": null
          }
        },
        "f1e6a05adf364655aec3db8298b3e6f7": {
          "model_module": "@jupyter-widgets/controls",
          "model_name": "ProgressStyleModel",
          "model_module_version": "1.5.0",
          "state": {
            "_model_module": "@jupyter-widgets/controls",
            "_model_module_version": "1.5.0",
            "_model_name": "ProgressStyleModel",
            "_view_count": null,
            "_view_module": "@jupyter-widgets/base",
            "_view_module_version": "1.2.0",
            "_view_name": "StyleView",
            "bar_color": null,
            "description_width": ""
          }
        },
        "a3724c45eba243f5bd7d84c0c3b3927c": {
          "model_module": "@jupyter-widgets/controls",
          "model_name": "VBoxModel",
          "model_module_version": "1.5.0",
          "state": {
            "_dom_classes": [],
            "_model_module": "@jupyter-widgets/controls",
            "_model_module_version": "1.5.0",
            "_model_name": "VBoxModel",
            "_view_count": null,
            "_view_module": "@jupyter-widgets/controls",
            "_view_module_version": "1.5.0",
            "_view_name": "VBoxView",
            "box_style": "",
            "children": [
              "IPY_MODEL_8f8e5e8e2d554f61b9411d99979d3a33",
              "IPY_MODEL_fe099df220b34ca88bb46aca7d3f61d9"
            ],
            "layout": "IPY_MODEL_b6c236a013b346029d49bfd79e0d3c5d"
          }
        },
        "8f8e5e8e2d554f61b9411d99979d3a33": {
          "model_module": "@jupyter-widgets/controls",
          "model_name": "LabelModel",
          "model_module_version": "1.5.0",
          "state": {
            "_dom_classes": [],
            "_model_module": "@jupyter-widgets/controls",
            "_model_module_version": "1.5.0",
            "_model_name": "LabelModel",
            "_view_count": null,
            "_view_module": "@jupyter-widgets/controls",
            "_view_module_version": "1.5.0",
            "_view_name": "LabelView",
            "description": "",
            "description_tooltip": null,
            "layout": "IPY_MODEL_9593dc1bf9c64c6eba9a39fad0b1bd51",
            "placeholder": "​",
            "style": "IPY_MODEL_c776c5f338ba4b92afc53f06a43af6de",
            "value": "0.011 MB of 0.011 MB uploaded (0.000 MB deduped)\r"
          }
        },
        "fe099df220b34ca88bb46aca7d3f61d9": {
          "model_module": "@jupyter-widgets/controls",
          "model_name": "FloatProgressModel",
          "model_module_version": "1.5.0",
          "state": {
            "_dom_classes": [],
            "_model_module": "@jupyter-widgets/controls",
            "_model_module_version": "1.5.0",
            "_model_name": "FloatProgressModel",
            "_view_count": null,
            "_view_module": "@jupyter-widgets/controls",
            "_view_module_version": "1.5.0",
            "_view_name": "ProgressView",
            "bar_style": "",
            "description": "",
            "description_tooltip": null,
            "layout": "IPY_MODEL_305ac9535036439a8b07ebeeb235e626",
            "max": 1,
            "min": 0,
            "orientation": "horizontal",
            "style": "IPY_MODEL_4761d20474f54c0c81aac01f0075a8fc",
            "value": 1
          }
        },
        "b6c236a013b346029d49bfd79e0d3c5d": {
          "model_module": "@jupyter-widgets/base",
          "model_name": "LayoutModel",
          "model_module_version": "1.2.0",
          "state": {
            "_model_module": "@jupyter-widgets/base",
            "_model_module_version": "1.2.0",
            "_model_name": "LayoutModel",
            "_view_count": null,
            "_view_module": "@jupyter-widgets/base",
            "_view_module_version": "1.2.0",
            "_view_name": "LayoutView",
            "align_content": null,
            "align_items": null,
            "align_self": null,
            "border": null,
            "bottom": null,
            "display": null,
            "flex": null,
            "flex_flow": null,
            "grid_area": null,
            "grid_auto_columns": null,
            "grid_auto_flow": null,
            "grid_auto_rows": null,
            "grid_column": null,
            "grid_gap": null,
            "grid_row": null,
            "grid_template_areas": null,
            "grid_template_columns": null,
            "grid_template_rows": null,
            "height": null,
            "justify_content": null,
            "justify_items": null,
            "left": null,
            "margin": null,
            "max_height": null,
            "max_width": null,
            "min_height": null,
            "min_width": null,
            "object_fit": null,
            "object_position": null,
            "order": null,
            "overflow": null,
            "overflow_x": null,
            "overflow_y": null,
            "padding": null,
            "right": null,
            "top": null,
            "visibility": null,
            "width": null
          }
        },
        "9593dc1bf9c64c6eba9a39fad0b1bd51": {
          "model_module": "@jupyter-widgets/base",
          "model_name": "LayoutModel",
          "model_module_version": "1.2.0",
          "state": {
            "_model_module": "@jupyter-widgets/base",
            "_model_module_version": "1.2.0",
            "_model_name": "LayoutModel",
            "_view_count": null,
            "_view_module": "@jupyter-widgets/base",
            "_view_module_version": "1.2.0",
            "_view_name": "LayoutView",
            "align_content": null,
            "align_items": null,
            "align_self": null,
            "border": null,
            "bottom": null,
            "display": null,
            "flex": null,
            "flex_flow": null,
            "grid_area": null,
            "grid_auto_columns": null,
            "grid_auto_flow": null,
            "grid_auto_rows": null,
            "grid_column": null,
            "grid_gap": null,
            "grid_row": null,
            "grid_template_areas": null,
            "grid_template_columns": null,
            "grid_template_rows": null,
            "height": null,
            "justify_content": null,
            "justify_items": null,
            "left": null,
            "margin": null,
            "max_height": null,
            "max_width": null,
            "min_height": null,
            "min_width": null,
            "object_fit": null,
            "object_position": null,
            "order": null,
            "overflow": null,
            "overflow_x": null,
            "overflow_y": null,
            "padding": null,
            "right": null,
            "top": null,
            "visibility": null,
            "width": null
          }
        },
        "c776c5f338ba4b92afc53f06a43af6de": {
          "model_module": "@jupyter-widgets/controls",
          "model_name": "DescriptionStyleModel",
          "model_module_version": "1.5.0",
          "state": {
            "_model_module": "@jupyter-widgets/controls",
            "_model_module_version": "1.5.0",
            "_model_name": "DescriptionStyleModel",
            "_view_count": null,
            "_view_module": "@jupyter-widgets/base",
            "_view_module_version": "1.2.0",
            "_view_name": "StyleView",
            "description_width": ""
          }
        },
        "305ac9535036439a8b07ebeeb235e626": {
          "model_module": "@jupyter-widgets/base",
          "model_name": "LayoutModel",
          "model_module_version": "1.2.0",
          "state": {
            "_model_module": "@jupyter-widgets/base",
            "_model_module_version": "1.2.0",
            "_model_name": "LayoutModel",
            "_view_count": null,
            "_view_module": "@jupyter-widgets/base",
            "_view_module_version": "1.2.0",
            "_view_name": "LayoutView",
            "align_content": null,
            "align_items": null,
            "align_self": null,
            "border": null,
            "bottom": null,
            "display": null,
            "flex": null,
            "flex_flow": null,
            "grid_area": null,
            "grid_auto_columns": null,
            "grid_auto_flow": null,
            "grid_auto_rows": null,
            "grid_column": null,
            "grid_gap": null,
            "grid_row": null,
            "grid_template_areas": null,
            "grid_template_columns": null,
            "grid_template_rows": null,
            "height": null,
            "justify_content": null,
            "justify_items": null,
            "left": null,
            "margin": null,
            "max_height": null,
            "max_width": null,
            "min_height": null,
            "min_width": null,
            "object_fit": null,
            "object_position": null,
            "order": null,
            "overflow": null,
            "overflow_x": null,
            "overflow_y": null,
            "padding": null,
            "right": null,
            "top": null,
            "visibility": null,
            "width": null
          }
        },
        "4761d20474f54c0c81aac01f0075a8fc": {
          "model_module": "@jupyter-widgets/controls",
          "model_name": "ProgressStyleModel",
          "model_module_version": "1.5.0",
          "state": {
            "_model_module": "@jupyter-widgets/controls",
            "_model_module_version": "1.5.0",
            "_model_name": "ProgressStyleModel",
            "_view_count": null,
            "_view_module": "@jupyter-widgets/base",
            "_view_module_version": "1.2.0",
            "_view_name": "StyleView",
            "bar_color": null,
            "description_width": ""
          }
        },
        "e4dab67d4a2747deabad56c8aa1f1aa6": {
          "model_module": "@jupyter-widgets/controls",
          "model_name": "VBoxModel",
          "model_module_version": "1.5.0",
          "state": {
            "_dom_classes": [],
            "_model_module": "@jupyter-widgets/controls",
            "_model_module_version": "1.5.0",
            "_model_name": "VBoxModel",
            "_view_count": null,
            "_view_module": "@jupyter-widgets/controls",
            "_view_module_version": "1.5.0",
            "_view_name": "VBoxView",
            "box_style": "",
            "children": [
              "IPY_MODEL_d8546988959548b49a4ce0b033cebebd",
              "IPY_MODEL_deba5b732d7e4e2db14693a327d5df7c"
            ],
            "layout": "IPY_MODEL_923af43dd2e3494a8f1d6b58088a42cc"
          }
        },
        "d8546988959548b49a4ce0b033cebebd": {
          "model_module": "@jupyter-widgets/controls",
          "model_name": "LabelModel",
          "model_module_version": "1.5.0",
          "state": {
            "_dom_classes": [],
            "_model_module": "@jupyter-widgets/controls",
            "_model_module_version": "1.5.0",
            "_model_name": "LabelModel",
            "_view_count": null,
            "_view_module": "@jupyter-widgets/controls",
            "_view_module_version": "1.5.0",
            "_view_name": "LabelView",
            "description": "",
            "description_tooltip": null,
            "layout": "IPY_MODEL_c25626523dda4467b9b43baf58afd286",
            "placeholder": "​",
            "style": "IPY_MODEL_e0b7be04b9cc41e3802e63f963c80f5b",
            "value": "0.011 MB of 0.011 MB uploaded (0.000 MB deduped)\r"
          }
        },
        "deba5b732d7e4e2db14693a327d5df7c": {
          "model_module": "@jupyter-widgets/controls",
          "model_name": "FloatProgressModel",
          "model_module_version": "1.5.0",
          "state": {
            "_dom_classes": [],
            "_model_module": "@jupyter-widgets/controls",
            "_model_module_version": "1.5.0",
            "_model_name": "FloatProgressModel",
            "_view_count": null,
            "_view_module": "@jupyter-widgets/controls",
            "_view_module_version": "1.5.0",
            "_view_name": "ProgressView",
            "bar_style": "",
            "description": "",
            "description_tooltip": null,
            "layout": "IPY_MODEL_a31ec65338774f9685fa0c7d0b7ce4ba",
            "max": 1,
            "min": 0,
            "orientation": "horizontal",
            "style": "IPY_MODEL_72c20e3d48b74445ac53491aae42140d",
            "value": 1
          }
        },
        "923af43dd2e3494a8f1d6b58088a42cc": {
          "model_module": "@jupyter-widgets/base",
          "model_name": "LayoutModel",
          "model_module_version": "1.2.0",
          "state": {
            "_model_module": "@jupyter-widgets/base",
            "_model_module_version": "1.2.0",
            "_model_name": "LayoutModel",
            "_view_count": null,
            "_view_module": "@jupyter-widgets/base",
            "_view_module_version": "1.2.0",
            "_view_name": "LayoutView",
            "align_content": null,
            "align_items": null,
            "align_self": null,
            "border": null,
            "bottom": null,
            "display": null,
            "flex": null,
            "flex_flow": null,
            "grid_area": null,
            "grid_auto_columns": null,
            "grid_auto_flow": null,
            "grid_auto_rows": null,
            "grid_column": null,
            "grid_gap": null,
            "grid_row": null,
            "grid_template_areas": null,
            "grid_template_columns": null,
            "grid_template_rows": null,
            "height": null,
            "justify_content": null,
            "justify_items": null,
            "left": null,
            "margin": null,
            "max_height": null,
            "max_width": null,
            "min_height": null,
            "min_width": null,
            "object_fit": null,
            "object_position": null,
            "order": null,
            "overflow": null,
            "overflow_x": null,
            "overflow_y": null,
            "padding": null,
            "right": null,
            "top": null,
            "visibility": null,
            "width": null
          }
        },
        "c25626523dda4467b9b43baf58afd286": {
          "model_module": "@jupyter-widgets/base",
          "model_name": "LayoutModel",
          "model_module_version": "1.2.0",
          "state": {
            "_model_module": "@jupyter-widgets/base",
            "_model_module_version": "1.2.0",
            "_model_name": "LayoutModel",
            "_view_count": null,
            "_view_module": "@jupyter-widgets/base",
            "_view_module_version": "1.2.0",
            "_view_name": "LayoutView",
            "align_content": null,
            "align_items": null,
            "align_self": null,
            "border": null,
            "bottom": null,
            "display": null,
            "flex": null,
            "flex_flow": null,
            "grid_area": null,
            "grid_auto_columns": null,
            "grid_auto_flow": null,
            "grid_auto_rows": null,
            "grid_column": null,
            "grid_gap": null,
            "grid_row": null,
            "grid_template_areas": null,
            "grid_template_columns": null,
            "grid_template_rows": null,
            "height": null,
            "justify_content": null,
            "justify_items": null,
            "left": null,
            "margin": null,
            "max_height": null,
            "max_width": null,
            "min_height": null,
            "min_width": null,
            "object_fit": null,
            "object_position": null,
            "order": null,
            "overflow": null,
            "overflow_x": null,
            "overflow_y": null,
            "padding": null,
            "right": null,
            "top": null,
            "visibility": null,
            "width": null
          }
        },
        "e0b7be04b9cc41e3802e63f963c80f5b": {
          "model_module": "@jupyter-widgets/controls",
          "model_name": "DescriptionStyleModel",
          "model_module_version": "1.5.0",
          "state": {
            "_model_module": "@jupyter-widgets/controls",
            "_model_module_version": "1.5.0",
            "_model_name": "DescriptionStyleModel",
            "_view_count": null,
            "_view_module": "@jupyter-widgets/base",
            "_view_module_version": "1.2.0",
            "_view_name": "StyleView",
            "description_width": ""
          }
        },
        "a31ec65338774f9685fa0c7d0b7ce4ba": {
          "model_module": "@jupyter-widgets/base",
          "model_name": "LayoutModel",
          "model_module_version": "1.2.0",
          "state": {
            "_model_module": "@jupyter-widgets/base",
            "_model_module_version": "1.2.0",
            "_model_name": "LayoutModel",
            "_view_count": null,
            "_view_module": "@jupyter-widgets/base",
            "_view_module_version": "1.2.0",
            "_view_name": "LayoutView",
            "align_content": null,
            "align_items": null,
            "align_self": null,
            "border": null,
            "bottom": null,
            "display": null,
            "flex": null,
            "flex_flow": null,
            "grid_area": null,
            "grid_auto_columns": null,
            "grid_auto_flow": null,
            "grid_auto_rows": null,
            "grid_column": null,
            "grid_gap": null,
            "grid_row": null,
            "grid_template_areas": null,
            "grid_template_columns": null,
            "grid_template_rows": null,
            "height": null,
            "justify_content": null,
            "justify_items": null,
            "left": null,
            "margin": null,
            "max_height": null,
            "max_width": null,
            "min_height": null,
            "min_width": null,
            "object_fit": null,
            "object_position": null,
            "order": null,
            "overflow": null,
            "overflow_x": null,
            "overflow_y": null,
            "padding": null,
            "right": null,
            "top": null,
            "visibility": null,
            "width": null
          }
        },
        "72c20e3d48b74445ac53491aae42140d": {
          "model_module": "@jupyter-widgets/controls",
          "model_name": "ProgressStyleModel",
          "model_module_version": "1.5.0",
          "state": {
            "_model_module": "@jupyter-widgets/controls",
            "_model_module_version": "1.5.0",
            "_model_name": "ProgressStyleModel",
            "_view_count": null,
            "_view_module": "@jupyter-widgets/base",
            "_view_module_version": "1.2.0",
            "_view_name": "StyleView",
            "bar_color": null,
            "description_width": ""
          }
        }
      }
    },
    "accelerator": "GPU"
  },
  "cells": [
    {
      "cell_type": "markdown",
      "metadata": {
        "id": "view-in-github",
        "colab_type": "text"
      },
      "source": [
        "<a href=\"https://colab.research.google.com/github/rashmi05pathak/CS6910_Assignment_2/blob/main/CS6910_Assignment2B_final.ipynb\" target=\"_parent\"><img src=\"https://colab.research.google.com/assets/colab-badge.svg\" alt=\"Open In Colab\"/></a>"
      ]
    },
    {
      "cell_type": "code",
      "metadata": {
        "id": "zN6WvKauHCsk",
        "colab": {
          "base_uri": "https://localhost:8080/"
        },
        "outputId": "79a5f95f-e215-4912-eb1a-33a30499225e"
      },
      "source": [
        "!pip install wandb"
      ],
      "execution_count": 2,
      "outputs": [
        {
          "output_type": "stream",
          "name": "stdout",
          "text": [
            "Collecting wandb\n",
            "  Downloading wandb-0.12.14-py2.py3-none-any.whl (1.8 MB)\n",
            "\u001b[?25l\r\u001b[K     |▏                               | 10 kB 19.0 MB/s eta 0:00:01\r\u001b[K     |▍                               | 20 kB 11.3 MB/s eta 0:00:01\r\u001b[K     |▌                               | 30 kB 9.4 MB/s eta 0:00:01\r\u001b[K     |▊                               | 40 kB 8.6 MB/s eta 0:00:01\r\u001b[K     |█                               | 51 kB 4.7 MB/s eta 0:00:01\r\u001b[K     |█                               | 61 kB 5.5 MB/s eta 0:00:01\r\u001b[K     |█▎                              | 71 kB 5.6 MB/s eta 0:00:01\r\u001b[K     |█▌                              | 81 kB 4.4 MB/s eta 0:00:01\r\u001b[K     |█▋                              | 92 kB 4.9 MB/s eta 0:00:01\r\u001b[K     |█▉                              | 102 kB 5.3 MB/s eta 0:00:01\r\u001b[K     |██                              | 112 kB 5.3 MB/s eta 0:00:01\r\u001b[K     |██▏                             | 122 kB 5.3 MB/s eta 0:00:01\r\u001b[K     |██▍                             | 133 kB 5.3 MB/s eta 0:00:01\r\u001b[K     |██▋                             | 143 kB 5.3 MB/s eta 0:00:01\r\u001b[K     |██▊                             | 153 kB 5.3 MB/s eta 0:00:01\r\u001b[K     |███                             | 163 kB 5.3 MB/s eta 0:00:01\r\u001b[K     |███▏                            | 174 kB 5.3 MB/s eta 0:00:01\r\u001b[K     |███▎                            | 184 kB 5.3 MB/s eta 0:00:01\r\u001b[K     |███▌                            | 194 kB 5.3 MB/s eta 0:00:01\r\u001b[K     |███▊                            | 204 kB 5.3 MB/s eta 0:00:01\r\u001b[K     |███▉                            | 215 kB 5.3 MB/s eta 0:00:01\r\u001b[K     |████                            | 225 kB 5.3 MB/s eta 0:00:01\r\u001b[K     |████▎                           | 235 kB 5.3 MB/s eta 0:00:01\r\u001b[K     |████▍                           | 245 kB 5.3 MB/s eta 0:00:01\r\u001b[K     |████▋                           | 256 kB 5.3 MB/s eta 0:00:01\r\u001b[K     |████▉                           | 266 kB 5.3 MB/s eta 0:00:01\r\u001b[K     |█████                           | 276 kB 5.3 MB/s eta 0:00:01\r\u001b[K     |█████▏                          | 286 kB 5.3 MB/s eta 0:00:01\r\u001b[K     |█████▍                          | 296 kB 5.3 MB/s eta 0:00:01\r\u001b[K     |█████▌                          | 307 kB 5.3 MB/s eta 0:00:01\r\u001b[K     |█████▊                          | 317 kB 5.3 MB/s eta 0:00:01\r\u001b[K     |██████                          | 327 kB 5.3 MB/s eta 0:00:01\r\u001b[K     |██████                          | 337 kB 5.3 MB/s eta 0:00:01\r\u001b[K     |██████▎                         | 348 kB 5.3 MB/s eta 0:00:01\r\u001b[K     |██████▌                         | 358 kB 5.3 MB/s eta 0:00:01\r\u001b[K     |██████▋                         | 368 kB 5.3 MB/s eta 0:00:01\r\u001b[K     |██████▉                         | 378 kB 5.3 MB/s eta 0:00:01\r\u001b[K     |███████                         | 389 kB 5.3 MB/s eta 0:00:01\r\u001b[K     |███████▏                        | 399 kB 5.3 MB/s eta 0:00:01\r\u001b[K     |███████▍                        | 409 kB 5.3 MB/s eta 0:00:01\r\u001b[K     |███████▋                        | 419 kB 5.3 MB/s eta 0:00:01\r\u001b[K     |███████▊                        | 430 kB 5.3 MB/s eta 0:00:01\r\u001b[K     |████████                        | 440 kB 5.3 MB/s eta 0:00:01\r\u001b[K     |████████▏                       | 450 kB 5.3 MB/s eta 0:00:01\r\u001b[K     |████████▎                       | 460 kB 5.3 MB/s eta 0:00:01\r\u001b[K     |████████▌                       | 471 kB 5.3 MB/s eta 0:00:01\r\u001b[K     |████████▊                       | 481 kB 5.3 MB/s eta 0:00:01\r\u001b[K     |████████▉                       | 491 kB 5.3 MB/s eta 0:00:01\r\u001b[K     |█████████                       | 501 kB 5.3 MB/s eta 0:00:01\r\u001b[K     |█████████▎                      | 512 kB 5.3 MB/s eta 0:00:01\r\u001b[K     |█████████▍                      | 522 kB 5.3 MB/s eta 0:00:01\r\u001b[K     |█████████▋                      | 532 kB 5.3 MB/s eta 0:00:01\r\u001b[K     |█████████▉                      | 542 kB 5.3 MB/s eta 0:00:01\r\u001b[K     |██████████                      | 552 kB 5.3 MB/s eta 0:00:01\r\u001b[K     |██████████▏                     | 563 kB 5.3 MB/s eta 0:00:01\r\u001b[K     |██████████▍                     | 573 kB 5.3 MB/s eta 0:00:01\r\u001b[K     |██████████▌                     | 583 kB 5.3 MB/s eta 0:00:01\r\u001b[K     |██████████▊                     | 593 kB 5.3 MB/s eta 0:00:01\r\u001b[K     |██████████▉                     | 604 kB 5.3 MB/s eta 0:00:01\r\u001b[K     |███████████                     | 614 kB 5.3 MB/s eta 0:00:01\r\u001b[K     |███████████▎                    | 624 kB 5.3 MB/s eta 0:00:01\r\u001b[K     |███████████▍                    | 634 kB 5.3 MB/s eta 0:00:01\r\u001b[K     |███████████▋                    | 645 kB 5.3 MB/s eta 0:00:01\r\u001b[K     |███████████▉                    | 655 kB 5.3 MB/s eta 0:00:01\r\u001b[K     |████████████                    | 665 kB 5.3 MB/s eta 0:00:01\r\u001b[K     |████████████▏                   | 675 kB 5.3 MB/s eta 0:00:01\r\u001b[K     |████████████▍                   | 686 kB 5.3 MB/s eta 0:00:01\r\u001b[K     |████████████▌                   | 696 kB 5.3 MB/s eta 0:00:01\r\u001b[K     |████████████▊                   | 706 kB 5.3 MB/s eta 0:00:01\r\u001b[K     |█████████████                   | 716 kB 5.3 MB/s eta 0:00:01\r\u001b[K     |█████████████                   | 727 kB 5.3 MB/s eta 0:00:01\r\u001b[K     |█████████████▎                  | 737 kB 5.3 MB/s eta 0:00:01\r\u001b[K     |█████████████▌                  | 747 kB 5.3 MB/s eta 0:00:01\r\u001b[K     |█████████████▋                  | 757 kB 5.3 MB/s eta 0:00:01\r\u001b[K     |█████████████▉                  | 768 kB 5.3 MB/s eta 0:00:01\r\u001b[K     |██████████████                  | 778 kB 5.3 MB/s eta 0:00:01\r\u001b[K     |██████████████▏                 | 788 kB 5.3 MB/s eta 0:00:01\r\u001b[K     |██████████████▍                 | 798 kB 5.3 MB/s eta 0:00:01\r\u001b[K     |██████████████▋                 | 808 kB 5.3 MB/s eta 0:00:01\r\u001b[K     |██████████████▊                 | 819 kB 5.3 MB/s eta 0:00:01\r\u001b[K     |███████████████                 | 829 kB 5.3 MB/s eta 0:00:01\r\u001b[K     |███████████████▏                | 839 kB 5.3 MB/s eta 0:00:01\r\u001b[K     |███████████████▎                | 849 kB 5.3 MB/s eta 0:00:01\r\u001b[K     |███████████████▌                | 860 kB 5.3 MB/s eta 0:00:01\r\u001b[K     |███████████████▊                | 870 kB 5.3 MB/s eta 0:00:01\r\u001b[K     |███████████████▉                | 880 kB 5.3 MB/s eta 0:00:01\r\u001b[K     |████████████████                | 890 kB 5.3 MB/s eta 0:00:01\r\u001b[K     |████████████████▎               | 901 kB 5.3 MB/s eta 0:00:01\r\u001b[K     |████████████████▍               | 911 kB 5.3 MB/s eta 0:00:01\r\u001b[K     |████████████████▋               | 921 kB 5.3 MB/s eta 0:00:01\r\u001b[K     |████████████████▉               | 931 kB 5.3 MB/s eta 0:00:01\r\u001b[K     |█████████████████               | 942 kB 5.3 MB/s eta 0:00:01\r\u001b[K     |█████████████████▏              | 952 kB 5.3 MB/s eta 0:00:01\r\u001b[K     |█████████████████▍              | 962 kB 5.3 MB/s eta 0:00:01\r\u001b[K     |█████████████████▌              | 972 kB 5.3 MB/s eta 0:00:01\r\u001b[K     |█████████████████▊              | 983 kB 5.3 MB/s eta 0:00:01\r\u001b[K     |██████████████████              | 993 kB 5.3 MB/s eta 0:00:01\r\u001b[K     |██████████████████              | 1.0 MB 5.3 MB/s eta 0:00:01\r\u001b[K     |██████████████████▎             | 1.0 MB 5.3 MB/s eta 0:00:01\r\u001b[K     |██████████████████▌             | 1.0 MB 5.3 MB/s eta 0:00:01\r\u001b[K     |██████████████████▋             | 1.0 MB 5.3 MB/s eta 0:00:01\r\u001b[K     |██████████████████▉             | 1.0 MB 5.3 MB/s eta 0:00:01\r\u001b[K     |███████████████████             | 1.1 MB 5.3 MB/s eta 0:00:01\r\u001b[K     |███████████████████▏            | 1.1 MB 5.3 MB/s eta 0:00:01\r\u001b[K     |███████████████████▍            | 1.1 MB 5.3 MB/s eta 0:00:01\r\u001b[K     |███████████████████▋            | 1.1 MB 5.3 MB/s eta 0:00:01\r\u001b[K     |███████████████████▊            | 1.1 MB 5.3 MB/s eta 0:00:01\r\u001b[K     |████████████████████            | 1.1 MB 5.3 MB/s eta 0:00:01\r\u001b[K     |████████████████████▏           | 1.1 MB 5.3 MB/s eta 0:00:01\r\u001b[K     |████████████████████▎           | 1.1 MB 5.3 MB/s eta 0:00:01\r\u001b[K     |████████████████████▌           | 1.1 MB 5.3 MB/s eta 0:00:01\r\u001b[K     |████████████████████▊           | 1.1 MB 5.3 MB/s eta 0:00:01\r\u001b[K     |████████████████████▉           | 1.2 MB 5.3 MB/s eta 0:00:01\r\u001b[K     |█████████████████████           | 1.2 MB 5.3 MB/s eta 0:00:01\r\u001b[K     |█████████████████████▎          | 1.2 MB 5.3 MB/s eta 0:00:01\r\u001b[K     |█████████████████████▍          | 1.2 MB 5.3 MB/s eta 0:00:01\r\u001b[K     |█████████████████████▋          | 1.2 MB 5.3 MB/s eta 0:00:01\r\u001b[K     |█████████████████████▊          | 1.2 MB 5.3 MB/s eta 0:00:01\r\u001b[K     |██████████████████████          | 1.2 MB 5.3 MB/s eta 0:00:01\r\u001b[K     |██████████████████████▏         | 1.2 MB 5.3 MB/s eta 0:00:01\r\u001b[K     |██████████████████████▎         | 1.2 MB 5.3 MB/s eta 0:00:01\r\u001b[K     |██████████████████████▌         | 1.2 MB 5.3 MB/s eta 0:00:01\r\u001b[K     |██████████████████████▊         | 1.3 MB 5.3 MB/s eta 0:00:01\r\u001b[K     |██████████████████████▉         | 1.3 MB 5.3 MB/s eta 0:00:01\r\u001b[K     |███████████████████████         | 1.3 MB 5.3 MB/s eta 0:00:01\r\u001b[K     |███████████████████████▎        | 1.3 MB 5.3 MB/s eta 0:00:01\r\u001b[K     |███████████████████████▍        | 1.3 MB 5.3 MB/s eta 0:00:01\r\u001b[K     |███████████████████████▋        | 1.3 MB 5.3 MB/s eta 0:00:01\r\u001b[K     |███████████████████████▉        | 1.3 MB 5.3 MB/s eta 0:00:01\r\u001b[K     |████████████████████████        | 1.3 MB 5.3 MB/s eta 0:00:01\r\u001b[K     |████████████████████████▏       | 1.3 MB 5.3 MB/s eta 0:00:01\r\u001b[K     |████████████████████████▍       | 1.4 MB 5.3 MB/s eta 0:00:01\r\u001b[K     |████████████████████████▌       | 1.4 MB 5.3 MB/s eta 0:00:01\r\u001b[K     |████████████████████████▊       | 1.4 MB 5.3 MB/s eta 0:00:01\r\u001b[K     |█████████████████████████       | 1.4 MB 5.3 MB/s eta 0:00:01\r\u001b[K     |█████████████████████████       | 1.4 MB 5.3 MB/s eta 0:00:01\r\u001b[K     |█████████████████████████▎      | 1.4 MB 5.3 MB/s eta 0:00:01\r\u001b[K     |█████████████████████████▌      | 1.4 MB 5.3 MB/s eta 0:00:01\r\u001b[K     |█████████████████████████▋      | 1.4 MB 5.3 MB/s eta 0:00:01\r\u001b[K     |█████████████████████████▉      | 1.4 MB 5.3 MB/s eta 0:00:01\r\u001b[K     |██████████████████████████      | 1.4 MB 5.3 MB/s eta 0:00:01\r\u001b[K     |██████████████████████████▏     | 1.5 MB 5.3 MB/s eta 0:00:01\r\u001b[K     |██████████████████████████▍     | 1.5 MB 5.3 MB/s eta 0:00:01\r\u001b[K     |██████████████████████████▋     | 1.5 MB 5.3 MB/s eta 0:00:01\r\u001b[K     |██████████████████████████▊     | 1.5 MB 5.3 MB/s eta 0:00:01\r\u001b[K     |███████████████████████████     | 1.5 MB 5.3 MB/s eta 0:00:01\r\u001b[K     |███████████████████████████▏    | 1.5 MB 5.3 MB/s eta 0:00:01\r\u001b[K     |███████████████████████████▎    | 1.5 MB 5.3 MB/s eta 0:00:01\r\u001b[K     |███████████████████████████▌    | 1.5 MB 5.3 MB/s eta 0:00:01\r\u001b[K     |███████████████████████████▊    | 1.5 MB 5.3 MB/s eta 0:00:01\r\u001b[K     |███████████████████████████▉    | 1.5 MB 5.3 MB/s eta 0:00:01\r\u001b[K     |████████████████████████████    | 1.6 MB 5.3 MB/s eta 0:00:01\r\u001b[K     |████████████████████████████▎   | 1.6 MB 5.3 MB/s eta 0:00:01\r\u001b[K     |████████████████████████████▍   | 1.6 MB 5.3 MB/s eta 0:00:01\r\u001b[K     |████████████████████████████▋   | 1.6 MB 5.3 MB/s eta 0:00:01\r\u001b[K     |████████████████████████████▉   | 1.6 MB 5.3 MB/s eta 0:00:01\r\u001b[K     |█████████████████████████████   | 1.6 MB 5.3 MB/s eta 0:00:01\r\u001b[K     |█████████████████████████████▏  | 1.6 MB 5.3 MB/s eta 0:00:01\r\u001b[K     |█████████████████████████████▍  | 1.6 MB 5.3 MB/s eta 0:00:01\r\u001b[K     |█████████████████████████████▌  | 1.6 MB 5.3 MB/s eta 0:00:01\r\u001b[K     |█████████████████████████████▊  | 1.6 MB 5.3 MB/s eta 0:00:01\r\u001b[K     |██████████████████████████████  | 1.7 MB 5.3 MB/s eta 0:00:01\r\u001b[K     |██████████████████████████████  | 1.7 MB 5.3 MB/s eta 0:00:01\r\u001b[K     |██████████████████████████████▎ | 1.7 MB 5.3 MB/s eta 0:00:01\r\u001b[K     |██████████████████████████████▌ | 1.7 MB 5.3 MB/s eta 0:00:01\r\u001b[K     |██████████████████████████████▋ | 1.7 MB 5.3 MB/s eta 0:00:01\r\u001b[K     |██████████████████████████████▉ | 1.7 MB 5.3 MB/s eta 0:00:01\r\u001b[K     |███████████████████████████████ | 1.7 MB 5.3 MB/s eta 0:00:01\r\u001b[K     |███████████████████████████████▏| 1.7 MB 5.3 MB/s eta 0:00:01\r\u001b[K     |███████████████████████████████▍| 1.7 MB 5.3 MB/s eta 0:00:01\r\u001b[K     |███████████████████████████████▋| 1.8 MB 5.3 MB/s eta 0:00:01\r\u001b[K     |███████████████████████████████▊| 1.8 MB 5.3 MB/s eta 0:00:01\r\u001b[K     |████████████████████████████████| 1.8 MB 5.3 MB/s eta 0:00:01\r\u001b[K     |████████████████████████████████| 1.8 MB 5.3 MB/s \n",
            "\u001b[?25hRequirement already satisfied: promise<3,>=2.0 in /usr/local/lib/python3.7/dist-packages (from wandb) (2.3)\n",
            "Collecting setproctitle\n",
            "  Downloading setproctitle-1.2.2-cp37-cp37m-manylinux1_x86_64.whl (36 kB)\n",
            "Requirement already satisfied: Click!=8.0.0,>=7.0 in /usr/local/lib/python3.7/dist-packages (from wandb) (7.1.2)\n",
            "Collecting shortuuid>=0.5.0\n",
            "  Downloading shortuuid-1.0.8-py3-none-any.whl (9.5 kB)\n",
            "Requirement already satisfied: psutil>=5.0.0 in /usr/local/lib/python3.7/dist-packages (from wandb) (5.4.8)\n",
            "Collecting docker-pycreds>=0.4.0\n",
            "  Downloading docker_pycreds-0.4.0-py2.py3-none-any.whl (9.0 kB)\n",
            "Requirement already satisfied: six>=1.13.0 in /usr/local/lib/python3.7/dist-packages (from wandb) (1.15.0)\n",
            "Requirement already satisfied: requests<3,>=2.0.0 in /usr/local/lib/python3.7/dist-packages (from wandb) (2.23.0)\n",
            "Requirement already satisfied: protobuf>=3.12.0 in /usr/local/lib/python3.7/dist-packages (from wandb) (3.17.3)\n",
            "Requirement already satisfied: python-dateutil>=2.6.1 in /usr/local/lib/python3.7/dist-packages (from wandb) (2.8.2)\n",
            "Collecting GitPython>=1.0.0\n",
            "  Downloading GitPython-3.1.27-py3-none-any.whl (181 kB)\n",
            "\u001b[K     |████████████████████████████████| 181 kB 47.3 MB/s \n",
            "\u001b[?25hRequirement already satisfied: PyYAML in /usr/local/lib/python3.7/dist-packages (from wandb) (3.13)\n",
            "Collecting pathtools\n",
            "  Downloading pathtools-0.1.2.tar.gz (11 kB)\n",
            "Collecting sentry-sdk>=1.0.0\n",
            "  Downloading sentry_sdk-1.5.8-py2.py3-none-any.whl (144 kB)\n",
            "\u001b[K     |████████████████████████████████| 144 kB 41.5 MB/s \n",
            "\u001b[?25hRequirement already satisfied: typing-extensions>=3.7.4.3 in /usr/local/lib/python3.7/dist-packages (from GitPython>=1.0.0->wandb) (3.10.0.2)\n",
            "Collecting gitdb<5,>=4.0.1\n",
            "  Downloading gitdb-4.0.9-py3-none-any.whl (63 kB)\n",
            "\u001b[K     |████████████████████████████████| 63 kB 1.6 MB/s \n",
            "\u001b[?25hCollecting smmap<6,>=3.0.1\n",
            "  Downloading smmap-5.0.0-py3-none-any.whl (24 kB)\n",
            "Requirement already satisfied: chardet<4,>=3.0.2 in /usr/local/lib/python3.7/dist-packages (from requests<3,>=2.0.0->wandb) (3.0.4)\n",
            "Requirement already satisfied: certifi>=2017.4.17 in /usr/local/lib/python3.7/dist-packages (from requests<3,>=2.0.0->wandb) (2021.10.8)\n",
            "Requirement already satisfied: idna<3,>=2.5 in /usr/local/lib/python3.7/dist-packages (from requests<3,>=2.0.0->wandb) (2.10)\n",
            "Requirement already satisfied: urllib3!=1.25.0,!=1.25.1,<1.26,>=1.21.1 in /usr/local/lib/python3.7/dist-packages (from requests<3,>=2.0.0->wandb) (1.24.3)\n",
            "Building wheels for collected packages: pathtools\n",
            "  Building wheel for pathtools (setup.py) ... \u001b[?25l\u001b[?25hdone\n",
            "  Created wheel for pathtools: filename=pathtools-0.1.2-py3-none-any.whl size=8806 sha256=46eab0ec39aa67821528ee273bd8d799b705acf9f656ec4f19d161096050bf9a\n",
            "  Stored in directory: /root/.cache/pip/wheels/3e/31/09/fa59cef12cdcfecc627b3d24273699f390e71828921b2cbba2\n",
            "Successfully built pathtools\n",
            "Installing collected packages: smmap, gitdb, shortuuid, setproctitle, sentry-sdk, pathtools, GitPython, docker-pycreds, wandb\n",
            "Successfully installed GitPython-3.1.27 docker-pycreds-0.4.0 gitdb-4.0.9 pathtools-0.1.2 sentry-sdk-1.5.8 setproctitle-1.2.2 shortuuid-1.0.8 smmap-5.0.0 wandb-0.12.14\n"
          ]
        }
      ]
    },
    {
      "cell_type": "code",
      "metadata": {
        "id": "TNuE6MpNFuEF"
      },
      "source": [
        "import numpy as np\n",
        "import pandas as pd\n",
        "import os\n",
        "import keras\n",
        "import tensorflow as tf\n",
        "from tensorflow.keras import layers,models\n",
        "from tensorflow.keras.layers import Conv2D, MaxPooling2D, Dropout, Dense, Flatten, Activation , BatchNormalization\n",
        "from tensorflow.keras.preprocessing.image import ImageDataGenerator\n",
        "import matplotlib.pyplot as plt\n",
        "import cv2\n",
        "import wandb\n",
        "from wandb.keras import WandbCallback"
      ],
      "execution_count": 3,
      "outputs": []
    },
    {
      "cell_type": "code",
      "metadata": {
        "id": "UX5ynRejyZvc"
      },
      "source": [
        "from keras.applications.vgg16 import VGG16\n",
        "from keras.applications.inception_v3 import InceptionV3\n",
        "from keras.applications.inception_resnet_v2 import InceptionResNetV2\n",
        "from keras.applications.xception import Xception"
      ],
      "execution_count": 4,
      "outputs": []
    },
    {
      "cell_type": "code",
      "source": [
        "from keras.applications.resnet import ResNet50"
      ],
      "metadata": {
        "id": "dVNDGveY6gUQ"
      },
      "execution_count": 5,
      "outputs": []
    },
    {
      "cell_type": "code",
      "metadata": {
        "id": "VcXuL4wGG893"
      },
      "source": [
        "%%capture\n",
        "!curl -SL https://storage.googleapis.com/wandb_datasets/nature_12K.zip > nature_12K.zip\n",
        "!unzip nature_12K.zip\n",
        "\n",
        "train_dir='inaturalist_12K/train/'\n",
        "test_dir='inaturalist_12K/val/'\n",
        "categories=['Amphibia','Animalia','Arachnida','Aves','Fungi','Insecta','Mammalia','Mollusca','Plantae','Reptilia']"
      ],
      "execution_count": 6,
      "outputs": []
    },
    {
      "cell_type": "code",
      "source": [
        "def customized_dataGenerator(h,w):\n",
        "    img_height,img_width= h ,w\n",
        "    #data generators for train and validation set\n",
        "    \n",
        "    augment= ImageDataGenerator(\n",
        "             rotation_range=30,\n",
        "             width_shift_range=0.2,\n",
        "             height_shift_range=0.2,\n",
        "             shear_range=0.2,\n",
        "             zoom_range=0.2,\n",
        "             horizontal_flip=True,\n",
        "             rescale=1.0 / 255,\n",
        "             validation_split=0.1\n",
        "             )\n",
        "\n",
        "    datagen = ImageDataGenerator(\n",
        "              rescale=1.0 / 255,\n",
        "              validation_split=0.1\n",
        "              )\n",
        "\n",
        "    train_set = datagen.flow_from_directory(\n",
        "                train_dir,\n",
        "                target_size=(img_height, img_width),\n",
        "                batch_size=32,\n",
        "                color_mode='rgb',\n",
        "                class_mode='sparse',\n",
        "                shuffle=True,\n",
        "                subset='training',\n",
        "                seed=95,\n",
        "                )\n",
        "    aug_set= augment.flow_from_directory(\n",
        "            train_dir,\n",
        "            target_size=(img_height, img_width),\n",
        "            batch_size=32,\n",
        "            color_mode='rgb',\n",
        "            class_mode='sparse',\n",
        "            shuffle=True,\n",
        "            subset='training',\n",
        "            seed=95,\n",
        "           )\n",
        "\n",
        "    val_set= datagen.flow_from_directory(\n",
        "              train_dir,\n",
        "              target_size=(img_height, img_width),\n",
        "              color_mode='rgb',\n",
        "              class_mode='sparse',\n",
        "              shuffle=True,\n",
        "              subset='validation',\n",
        "              seed=95,\n",
        "              )\n",
        "    return train_set, aug_set, val_set\n"
      ],
      "metadata": {
        "id": "OTUTNlQJ7dmR"
      },
      "execution_count": 7,
      "outputs": []
    },
    {
      "cell_type": "code",
      "metadata": {
        "id": "0vS7KdPEzPVq"
      },
      "source": [
        "sweep_config = {\n",
        "  'name': 'sweep2B5b',  \n",
        "  'method': 'grid',\n",
        "  'parameters': {\n",
        "        \n",
        "        \n",
        "        'fc_size':{\n",
        "            'values':[32,64,128]\n",
        "        },\n",
        "        'batchnorm':{\n",
        "            'values':['yes','no']\n",
        "        },\n",
        "        'augmentation':{\n",
        "            'values':['yes','no']   \n",
        "        },\n",
        "        'droprate':{\n",
        "            'values':[0.3,0.4,0.5]\n",
        "        },\n",
        "        'pre_train':{\n",
        "            'values':['inceptionv3','inceptionresnetv2','Xception','resnet50']\n",
        "        }\n",
        "\n",
        "           \n",
        "    }\n",
        "\n",
        "}\n",
        "\n",
        "#this config gives best val accuracy\n",
        "config_defaults={\n",
        "    'fc_size':32,\n",
        "    'batchnorm':'yes',\n",
        "    'augmentation':'yes',\n",
        "    'droprate':0.3,\n",
        "    'pre_train':'inceptionv3'\n",
        "}"
      ],
      "execution_count": 8,
      "outputs": []
    },
    {
      "cell_type": "code",
      "source": [
        "#config_defaults"
      ],
      "metadata": {
        "id": "7Td-aA-9ekTb"
      },
      "execution_count": 10,
      "outputs": []
    },
    {
      "cell_type": "code",
      "metadata": {
        "id": "SsElcmRUBU3v"
      },
      "source": [
        "def PreTrain():\n",
        "\n",
        "  wandb.init(config=config_defaults)\n",
        "  configs=wandb.config\n",
        "\n",
        "  configs=config_defaults\n",
        "\n",
        "  batchnorm=configs['batchnorm']\n",
        "  droprate=configs['droprate']\n",
        "  augmentation=configs['augmentation']\n",
        "  fc_size=configs['fc_size']\n",
        "  pre_train = configs['pre_train']\n",
        "\n",
        "  wandb.run.name='model_'+pre_train+'_fc_2_size_'+str(fc_size)+'_droprate_'+str(droprate)+ str('_bn_' if batchnorm=='yes' else '') +str('augment' if augmentation=='yes' else '')\n",
        "\n",
        "\n",
        "  if pre_train == 'inceptionv3':\n",
        "    img_height = 300\n",
        "    img_width = 300\n",
        "    base_model = InceptionV3(include_top=False, weights='imagenet',input_shape=(img_height, img_width,3))\n",
        "\n",
        "  if pre_train == 'inceptionresnetv2':\n",
        "    img_height = 300\n",
        "    img_width = 300\n",
        "    base_model = InceptionResNetV2(include_top=False, weights='imagenet',input_shape=(img_height, img_width,3))\n",
        "\n",
        "  if pre_train == 'resnet50':\n",
        "    img_height = 224\n",
        "    img_width = 224\n",
        "    base_model = ResNet50(include_top=False, weights='imagenet',input_shape=(img_height, img_width,3))\n",
        "\n",
        "  if pre_train == 'Xception':\n",
        "    img_height = 300\n",
        "    img_width = 300\n",
        "    base_model = Xception(include_top=False, weights='imagenet',input_shape=(img_height, img_width,3))  \n",
        "\n",
        "\n",
        "  for layers in base_model.layers:\n",
        "    layers.trainable = False\n",
        "\n",
        "  model = keras.Sequential([\n",
        "      tf.keras.Input(shape=(img_height, img_width,3,)),\n",
        "      base_model,\n",
        "      Flatten(),\n",
        "      Dense(fc_size,activation='relu'),\n",
        "      \n",
        "  ])\n",
        "  if batchnorm == 'yes':\n",
        "    model.add(BatchNormalization())\n",
        "  model.add(Dropout(droprate))\n",
        "  model.add(Dense(fc_size, activation='relu'))\n",
        "  model.add(Dropout(droprate))\n",
        "  model.add(Dense(10 ,activation='softmax'))\n",
        "  \n",
        "  model.compile(\n",
        "    optimizer=tf.keras.optimizers.Adam(),\n",
        "    loss=[tf.keras.losses.SparseCategoricalCrossentropy()],\n",
        "    metrics=['accuracy'],\n",
        "  )\n",
        "  \n",
        "  train_set, aug_set, val_set = customized_dataGenerator(img_height,img_width)\n",
        "\n",
        "  if augmentation =='no' :\n",
        "    #hist=model.fit(train_set,epochs=10,validation_data=val_set,callbacks=[WandbCallback()]) \n",
        "    hist=model.fit(train_set,epochs=10,validation_data=val_set)\n",
        "  \n",
        "  else:\n",
        "    #hist=model.fit(aug_set,epochs=10,validation_data=val_set,callbacks=[WandbCallback()])\n",
        "    hist=model.fit(aug_set,epochs=10,validation_data=val_set)\n",
        "\n",
        "\n",
        "  val_acc=max(hist.history['val_accuracy'])\n",
        "  params={'batch_norm':batchnorm,'augmentation':augmentation,'dropout':droprate,'pre_trained_model':pre_train,'val_acc':val_acc}\n",
        "  #wandb.log(params)\n",
        "  "
      ],
      "execution_count": 11,
      "outputs": []
    },
    {
      "cell_type": "code",
      "metadata": {
        "colab": {
          "base_uri": "https://localhost:8080/",
          "height": 1000,
          "referenced_widgets": [
            "4c178e99221d467eb8e839bf461b2677",
            "0e9fcf20d2874512b9064268a4338ad4",
            "a304c1f572804d7abd4dace8194b0631",
            "0427bfa8d64f4a75813224cc18a6814d",
            "16d6573cadf2478cb3ee1549c4122753",
            "c8f1ef7a7df14bd7b835b330c9793215",
            "7ed98516da3246359cebf95a2b4e6ed7",
            "f1e6a05adf364655aec3db8298b3e6f7",
            "f008db2fca804259a75ac2307f72b76b",
            "a3724c45eba243f5bd7d84c0c3b3927c",
            "8f8e5e8e2d554f61b9411d99979d3a33",
            "fe099df220b34ca88bb46aca7d3f61d9",
            "b6c236a013b346029d49bfd79e0d3c5d",
            "9593dc1bf9c64c6eba9a39fad0b1bd51",
            "c776c5f338ba4b92afc53f06a43af6de",
            "305ac9535036439a8b07ebeeb235e626",
            "4761d20474f54c0c81aac01f0075a8fc",
            "e4dab67d4a2747deabad56c8aa1f1aa6",
            "d8546988959548b49a4ce0b033cebebd",
            "deba5b732d7e4e2db14693a327d5df7c",
            "923af43dd2e3494a8f1d6b58088a42cc",
            "c25626523dda4467b9b43baf58afd286",
            "e0b7be04b9cc41e3802e63f963c80f5b",
            "a31ec65338774f9685fa0c7d0b7ce4ba",
            "72c20e3d48b74445ac53491aae42140d"
          ]
        },
        "id": "u3vt5VfOBUua",
        "outputId": "344c1f3b-2371-48d2-e0bf-8f52a85964e9"
      },
      "source": [
        "#Ignore this and proceed\n",
        "#sweep_id=wandb.sweep(sweep_config,entity='rashmipathak',project='assignment_2B')\n",
        "#wandb.agent(sweep_id, PreTrain)   "
      ],
      "execution_count": null,
      "outputs": [
        {
          "data": {
            "application/javascript": [
              "\n",
              "        window._wandbApiKey = new Promise((resolve, reject) => {\n",
              "            function loadScript(url) {\n",
              "            return new Promise(function(resolve, reject) {\n",
              "                let newScript = document.createElement(\"script\");\n",
              "                newScript.onerror = reject;\n",
              "                newScript.onload = resolve;\n",
              "                document.body.appendChild(newScript);\n",
              "                newScript.src = url;\n",
              "            });\n",
              "            }\n",
              "            loadScript(\"https://cdn.jsdelivr.net/npm/postmate/build/postmate.min.js\").then(() => {\n",
              "            const iframe = document.createElement('iframe')\n",
              "            iframe.style.cssText = \"width:0;height:0;border:none\"\n",
              "            document.body.appendChild(iframe)\n",
              "            const handshake = new Postmate({\n",
              "                container: iframe,\n",
              "                url: 'https://wandb.ai/authorize'\n",
              "            });\n",
              "            const timeout = setTimeout(() => reject(\"Couldn't auto authenticate\"), 5000)\n",
              "            handshake.then(function(child) {\n",
              "                child.on('authorize', data => {\n",
              "                    clearTimeout(timeout)\n",
              "                    resolve(data)\n",
              "                });\n",
              "            });\n",
              "            })\n",
              "        });\n",
              "    "
            ],
            "text/plain": [
              "<IPython.core.display.Javascript object>"
            ]
          },
          "metadata": {},
          "output_type": "display_data"
        },
        {
          "metadata": {
            "tags": null
          },
          "name": "stderr",
          "output_type": "stream",
          "text": [
            "\u001b[34m\u001b[1mwandb\u001b[0m: You can find your API key in your browser here: https://wandb.ai/authorize\n",
            "\u001b[34m\u001b[1mwandb\u001b[0m: Appending key for api.wandb.ai to your netrc file: /root/.netrc\n"
          ]
        },
        {
          "metadata": {
            "tags": null
          },
          "name": "stdout",
          "output_type": "stream",
          "text": [
            "Create sweep with ID: zrxw5ela\n",
            "Sweep URL: https://wandb.ai/rashmipathak/assignment_2B/sweeps/zrxw5ela\n"
          ]
        },
        {
          "metadata": {
            "tags": null
          },
          "name": "stderr",
          "output_type": "stream",
          "text": [
            "\u001b[34m\u001b[1mwandb\u001b[0m: Agent Starting Run: vl179ozp with config:\n",
            "\u001b[34m\u001b[1mwandb\u001b[0m: \taugmentation: yes\n",
            "\u001b[34m\u001b[1mwandb\u001b[0m: \tbatchnorm: yes\n",
            "\u001b[34m\u001b[1mwandb\u001b[0m: \tdroprate: 0.3\n",
            "\u001b[34m\u001b[1mwandb\u001b[0m: \tfc_size: 32\n",
            "\u001b[34m\u001b[1mwandb\u001b[0m: \tpre_train: inceptionv3\n",
            "\u001b[34m\u001b[1mwandb\u001b[0m: Currently logged in as: \u001b[33mrashmipathak\u001b[0m (use `wandb login --relogin` to force relogin)\n"
          ]
        },
        {
          "data": {
            "text/html": [
              "Tracking run with wandb version 0.12.14"
            ],
            "text/plain": [
              "<IPython.core.display.HTML object>"
            ]
          },
          "metadata": {},
          "output_type": "display_data"
        },
        {
          "data": {
            "text/html": [
              "Run data is saved locally in <code>/content/wandb/run-20220409_042541-vl179ozp</code>"
            ],
            "text/plain": [
              "<IPython.core.display.HTML object>"
            ]
          },
          "metadata": {},
          "output_type": "display_data"
        },
        {
          "data": {
            "text/html": [
              "Syncing run <strong><a href=\"https://wandb.ai/rashmipathak/assignment_2B/runs/vl179ozp\" target=\"_blank\">dry-sweep-1</a></strong> to <a href=\"https://wandb.ai/rashmipathak/assignment_2B\" target=\"_blank\">Weights & Biases</a> (<a href=\"https://wandb.me/run\" target=\"_blank\">docs</a>)<br/>Sweep page:  <a href=\"https://wandb.ai/rashmipathak/assignment_2B/sweeps/zrxw5ela\" target=\"_blank\">https://wandb.ai/rashmipathak/assignment_2B/sweeps/zrxw5ela</a>"
            ],
            "text/plain": [
              "<IPython.core.display.HTML object>"
            ]
          },
          "metadata": {},
          "output_type": "display_data"
        },
        {
          "metadata": {
            "tags": null
          },
          "name": "stdout",
          "output_type": "stream",
          "text": [
            "Downloading data from https://storage.googleapis.com/tensorflow/keras-applications/inception_resnet_v2/inception_resnet_v2_weights_tf_dim_ordering_tf_kernels_notop.h5\n",
            "219062272/219055592 [==============================] - 1s 0us/step\n",
            "219070464/219055592 [==============================] - 1s 0us/step\n",
            "Found 9000 images belonging to 10 classes.\n",
            "Found 9000 images belonging to 10 classes.\n",
            "Found 999 images belonging to 10 classes.\n",
            "Epoch 1/10\n",
            "282/282 [==============================] - 324s 1s/step - loss: 1.3154 - accuracy: 0.5811 - val_loss: 0.6184 - val_accuracy: 0.8068\n",
            "Epoch 2/10\n",
            "282/282 [==============================] - 294s 1s/step - loss: 0.8805 - accuracy: 0.7206 - val_loss: 0.6271 - val_accuracy: 0.8128\n",
            "Epoch 3/10\n",
            "282/282 [==============================] - 287s 1s/step - loss: 0.8192 - accuracy: 0.7489 - val_loss: 0.5622 - val_accuracy: 0.8208\n",
            "Epoch 4/10\n",
            "282/282 [==============================] - 286s 1s/step - loss: 0.7636 - accuracy: 0.7594 - val_loss: 0.5623 - val_accuracy: 0.8158\n",
            "Epoch 5/10\n",
            "282/282 [==============================] - 286s 1s/step - loss: 0.7407 - accuracy: 0.7680 - val_loss: 0.5364 - val_accuracy: 0.8318\n",
            "Epoch 6/10\n",
            "282/282 [==============================] - 286s 1s/step - loss: 0.7240 - accuracy: 0.7654 - val_loss: 0.5314 - val_accuracy: 0.8358\n",
            "Epoch 7/10\n",
            "282/282 [==============================] - 285s 1s/step - loss: 0.6961 - accuracy: 0.7791 - val_loss: 0.5505 - val_accuracy: 0.8298\n",
            "Epoch 8/10\n",
            "282/282 [==============================] - 285s 1s/step - loss: 0.6720 - accuracy: 0.7894 - val_loss: 0.5072 - val_accuracy: 0.8338\n",
            "Epoch 9/10\n",
            "282/282 [==============================] - 287s 1s/step - loss: 0.6725 - accuracy: 0.7866 - val_loss: 0.5315 - val_accuracy: 0.8348\n",
            "Epoch 10/10\n",
            "282/282 [==============================] - 289s 1s/step - loss: 0.6666 - accuracy: 0.7850 - val_loss: 0.4999 - val_accuracy: 0.8509\n",
            "\n"
          ]
        },
        {
          "data": {
            "text/html": [
              "Waiting for W&B process to finish... <strong style=\"color:green\">(success).</strong>"
            ],
            "text/plain": [
              "<IPython.core.display.HTML object>"
            ]
          },
          "metadata": {},
          "output_type": "display_data"
        },
        {
          "data": {
            "application/vnd.jupyter.widget-view+json": {
              "model_id": "4c178e99221d467eb8e839bf461b2677",
              "version_major": 2,
              "version_minor": 0
            },
            "text/plain": [
              "VBox(children=(Label(value='0.001 MB of 0.001 MB uploaded (0.000 MB deduped)\\r'), FloatProgress(value=1.0, max…"
            ]
          },
          "metadata": {},
          "output_type": "display_data"
        },
        {
          "data": {
            "text/html": [
              "Synced <strong style=\"color:#cdcd00\">dry-sweep-1</strong>: <a href=\"https://wandb.ai/rashmipathak/assignment_2B/runs/vl179ozp\" target=\"_blank\">https://wandb.ai/rashmipathak/assignment_2B/runs/vl179ozp</a><br/>Synced 5 W&B file(s), 0 media file(s), 0 artifact file(s) and 0 other file(s)"
            ],
            "text/plain": [
              "<IPython.core.display.HTML object>"
            ]
          },
          "metadata": {},
          "output_type": "display_data"
        },
        {
          "data": {
            "text/html": [
              "Find logs at: <code>./wandb/run-20220409_042541-vl179ozp/logs</code>"
            ],
            "text/plain": [
              "<IPython.core.display.HTML object>"
            ]
          },
          "metadata": {},
          "output_type": "display_data"
        },
        {
          "metadata": {
            "tags": null
          },
          "name": "stderr",
          "output_type": "stream",
          "text": [
            "\u001b[34m\u001b[1mwandb\u001b[0m: Agent Starting Run: ijd84tvs with config:\n",
            "\u001b[34m\u001b[1mwandb\u001b[0m: \taugmentation: yes\n",
            "\u001b[34m\u001b[1mwandb\u001b[0m: \tbatchnorm: yes\n",
            "\u001b[34m\u001b[1mwandb\u001b[0m: \tdroprate: 0.3\n",
            "\u001b[34m\u001b[1mwandb\u001b[0m: \tfc_size: 32\n",
            "\u001b[34m\u001b[1mwandb\u001b[0m: \tpre_train: inceptionresnetv2\n"
          ]
        },
        {
          "data": {
            "text/html": [
              "Tracking run with wandb version 0.12.14"
            ],
            "text/plain": [
              "<IPython.core.display.HTML object>"
            ]
          },
          "metadata": {},
          "output_type": "display_data"
        },
        {
          "data": {
            "text/html": [
              "Run data is saved locally in <code>/content/wandb/run-20220409_051438-ijd84tvs</code>"
            ],
            "text/plain": [
              "<IPython.core.display.HTML object>"
            ]
          },
          "metadata": {},
          "output_type": "display_data"
        },
        {
          "data": {
            "text/html": [
              "Syncing run <strong><a href=\"https://wandb.ai/rashmipathak/assignment_2B/runs/ijd84tvs\" target=\"_blank\">fast-sweep-2</a></strong> to <a href=\"https://wandb.ai/rashmipathak/assignment_2B\" target=\"_blank\">Weights & Biases</a> (<a href=\"https://wandb.me/run\" target=\"_blank\">docs</a>)<br/>Sweep page:  <a href=\"https://wandb.ai/rashmipathak/assignment_2B/sweeps/zrxw5ela\" target=\"_blank\">https://wandb.ai/rashmipathak/assignment_2B/sweeps/zrxw5ela</a>"
            ],
            "text/plain": [
              "<IPython.core.display.HTML object>"
            ]
          },
          "metadata": {},
          "output_type": "display_data"
        },
        {
          "metadata": {
            "tags": null
          },
          "name": "stdout",
          "output_type": "stream",
          "text": [
            "Found 9000 images belonging to 10 classes.\n",
            "Found 9000 images belonging to 10 classes.\n",
            "Found 999 images belonging to 10 classes.\n",
            "Epoch 1/10\n",
            "282/282 [==============================] - 301s 1s/step - loss: 1.3307 - accuracy: 0.5880 - val_loss: 0.6532 - val_accuracy: 0.7958\n",
            "Epoch 2/10\n",
            "282/282 [==============================] - 289s 1s/step - loss: 0.8962 - accuracy: 0.7210 - val_loss: 0.5750 - val_accuracy: 0.8228\n",
            "Epoch 3/10\n",
            "282/282 [==============================] - 285s 1s/step - loss: 0.8038 - accuracy: 0.7478 - val_loss: 0.5911 - val_accuracy: 0.8068\n",
            "Epoch 4/10\n",
            "282/282 [==============================] - 285s 1s/step - loss: 0.7706 - accuracy: 0.7526 - val_loss: 0.5824 - val_accuracy: 0.8278\n",
            "Epoch 5/10\n",
            "282/282 [==============================] - 286s 1s/step - loss: 0.7495 - accuracy: 0.7587 - val_loss: 0.5428 - val_accuracy: 0.8288\n",
            "Epoch 6/10\n",
            "282/282 [==============================] - 285s 1s/step - loss: 0.7215 - accuracy: 0.7711 - val_loss: 0.5327 - val_accuracy: 0.8328\n",
            "Epoch 7/10\n",
            "282/282 [==============================] - 285s 1s/step - loss: 0.7056 - accuracy: 0.7728 - val_loss: 0.5098 - val_accuracy: 0.8378\n",
            "Epoch 8/10\n",
            "282/282 [==============================] - 285s 1s/step - loss: 0.6683 - accuracy: 0.7878 - val_loss: 0.5623 - val_accuracy: 0.8138\n",
            "Epoch 9/10\n",
            "282/282 [==============================] - 285s 1s/step - loss: 0.6641 - accuracy: 0.7858 - val_loss: 0.5179 - val_accuracy: 0.8378\n",
            "Epoch 10/10\n",
            "282/282 [==============================] - 285s 1s/step - loss: 0.6696 - accuracy: 0.7881 - val_loss: 0.5206 - val_accuracy: 0.8288\n",
            "\n"
          ]
        },
        {
          "data": {
            "text/html": [
              "Waiting for W&B process to finish... <strong style=\"color:green\">(success).</strong>"
            ],
            "text/plain": [
              "<IPython.core.display.HTML object>"
            ]
          },
          "metadata": {},
          "output_type": "display_data"
        },
        {
          "data": {
            "application/vnd.jupyter.widget-view+json": {
              "model_id": "f008db2fca804259a75ac2307f72b76b",
              "version_major": 2,
              "version_minor": 0
            },
            "text/plain": [
              "VBox(children=(Label(value='0.001 MB of 0.001 MB uploaded (0.000 MB deduped)\\r'), FloatProgress(value=1.0, max…"
            ]
          },
          "metadata": {},
          "output_type": "display_data"
        },
        {
          "data": {
            "text/html": [
              "Synced <strong style=\"color:#cdcd00\">fast-sweep-2</strong>: <a href=\"https://wandb.ai/rashmipathak/assignment_2B/runs/ijd84tvs\" target=\"_blank\">https://wandb.ai/rashmipathak/assignment_2B/runs/ijd84tvs</a><br/>Synced 5 W&B file(s), 0 media file(s), 0 artifact file(s) and 0 other file(s)"
            ],
            "text/plain": [
              "<IPython.core.display.HTML object>"
            ]
          },
          "metadata": {},
          "output_type": "display_data"
        },
        {
          "data": {
            "text/html": [
              "Find logs at: <code>./wandb/run-20220409_051438-ijd84tvs/logs</code>"
            ],
            "text/plain": [
              "<IPython.core.display.HTML object>"
            ]
          },
          "metadata": {},
          "output_type": "display_data"
        },
        {
          "metadata": {
            "tags": null
          },
          "name": "stderr",
          "output_type": "stream",
          "text": [
            "\u001b[34m\u001b[1mwandb\u001b[0m: Agent Starting Run: mlggd9an with config:\n",
            "\u001b[34m\u001b[1mwandb\u001b[0m: \taugmentation: yes\n",
            "\u001b[34m\u001b[1mwandb\u001b[0m: \tbatchnorm: yes\n",
            "\u001b[34m\u001b[1mwandb\u001b[0m: \tdroprate: 0.3\n",
            "\u001b[34m\u001b[1mwandb\u001b[0m: \tfc_size: 32\n",
            "\u001b[34m\u001b[1mwandb\u001b[0m: \tpre_train: Xception\n"
          ]
        },
        {
          "data": {
            "text/html": [
              "Tracking run with wandb version 0.12.14"
            ],
            "text/plain": [
              "<IPython.core.display.HTML object>"
            ]
          },
          "metadata": {},
          "output_type": "display_data"
        },
        {
          "data": {
            "text/html": [
              "Run data is saved locally in <code>/content/wandb/run-20220409_060259-mlggd9an</code>"
            ],
            "text/plain": [
              "<IPython.core.display.HTML object>"
            ]
          },
          "metadata": {},
          "output_type": "display_data"
        },
        {
          "data": {
            "text/html": [
              "Syncing run <strong><a href=\"https://wandb.ai/rashmipathak/assignment_2B/runs/mlggd9an\" target=\"_blank\">iconic-sweep-3</a></strong> to <a href=\"https://wandb.ai/rashmipathak/assignment_2B\" target=\"_blank\">Weights & Biases</a> (<a href=\"https://wandb.me/run\" target=\"_blank\">docs</a>)<br/>Sweep page:  <a href=\"https://wandb.ai/rashmipathak/assignment_2B/sweeps/zrxw5ela\" target=\"_blank\">https://wandb.ai/rashmipathak/assignment_2B/sweeps/zrxw5ela</a>"
            ],
            "text/plain": [
              "<IPython.core.display.HTML object>"
            ]
          },
          "metadata": {},
          "output_type": "display_data"
        },
        {
          "metadata": {
            "tags": null
          },
          "name": "stdout",
          "output_type": "stream",
          "text": [
            "Found 9000 images belonging to 10 classes.\n",
            "Found 9000 images belonging to 10 classes.\n",
            "Found 999 images belonging to 10 classes.\n",
            "Epoch 1/10\n",
            "282/282 [==============================] - 298s 1s/step - loss: 1.3044 - accuracy: 0.5893 - val_loss: 0.6436 - val_accuracy: 0.8058\n",
            "Epoch 2/10\n",
            "282/282 [==============================] - 286s 1s/step - loss: 0.8885 - accuracy: 0.7234 - val_loss: 0.5660 - val_accuracy: 0.8158\n",
            "Epoch 3/10\n",
            "282/282 [==============================] - 286s 1s/step - loss: 0.8042 - accuracy: 0.7468 - val_loss: 0.5863 - val_accuracy: 0.8238\n",
            "Epoch 4/10\n",
            "282/282 [==============================] - 286s 1s/step - loss: 0.7695 - accuracy: 0.7599 - val_loss: 0.5685 - val_accuracy: 0.8268\n",
            "Epoch 5/10\n",
            "282/282 [==============================] - 286s 1s/step - loss: 0.7437 - accuracy: 0.7634 - val_loss: 0.5518 - val_accuracy: 0.8228\n",
            "Epoch 6/10\n",
            "282/282 [==============================] - 286s 1s/step - loss: 0.7105 - accuracy: 0.7683 - val_loss: 0.5088 - val_accuracy: 0.8328\n",
            "Epoch 7/10\n",
            "282/282 [==============================] - 285s 1s/step - loss: 0.7012 - accuracy: 0.7761 - val_loss: 0.4953 - val_accuracy: 0.8448\n",
            "Epoch 8/10\n",
            "282/282 [==============================] - 285s 1s/step - loss: 0.6948 - accuracy: 0.7792 - val_loss: 0.5296 - val_accuracy: 0.8368\n",
            "Epoch 9/10\n",
            "282/282 [==============================] - 285s 1s/step - loss: 0.6640 - accuracy: 0.7896 - val_loss: 0.5262 - val_accuracy: 0.8318\n",
            "Epoch 10/10\n",
            "282/282 [==============================] - 286s 1s/step - loss: 0.6668 - accuracy: 0.7854 - val_loss: 0.5366 - val_accuracy: 0.8378\n",
            "\n"
          ]
        },
        {
          "data": {
            "text/html": [
              "Waiting for W&B process to finish... <strong style=\"color:green\">(success).</strong>"
            ],
            "text/plain": [
              "<IPython.core.display.HTML object>"
            ]
          },
          "metadata": {},
          "output_type": "display_data"
        },
        {
          "data": {
            "application/vnd.jupyter.widget-view+json": {
              "model_id": "a3724c45eba243f5bd7d84c0c3b3927c",
              "version_major": 2,
              "version_minor": 0
            },
            "text/plain": [
              "VBox(children=(Label(value='0.001 MB of 0.001 MB uploaded (0.000 MB deduped)\\r'), FloatProgress(value=1.0, max…"
            ]
          },
          "metadata": {},
          "output_type": "display_data"
        },
        {
          "data": {
            "text/html": [
              "Synced <strong style=\"color:#cdcd00\">iconic-sweep-3</strong>: <a href=\"https://wandb.ai/rashmipathak/assignment_2B/runs/mlggd9an\" target=\"_blank\">https://wandb.ai/rashmipathak/assignment_2B/runs/mlggd9an</a><br/>Synced 5 W&B file(s), 0 media file(s), 0 artifact file(s) and 0 other file(s)"
            ],
            "text/plain": [
              "<IPython.core.display.HTML object>"
            ]
          },
          "metadata": {},
          "output_type": "display_data"
        },
        {
          "data": {
            "text/html": [
              "Find logs at: <code>./wandb/run-20220409_060259-mlggd9an/logs</code>"
            ],
            "text/plain": [
              "<IPython.core.display.HTML object>"
            ]
          },
          "metadata": {},
          "output_type": "display_data"
        },
        {
          "metadata": {
            "tags": null
          },
          "name": "stderr",
          "output_type": "stream",
          "text": [
            "\u001b[34m\u001b[1mwandb\u001b[0m: Agent Starting Run: jrpi2wo8 with config:\n",
            "\u001b[34m\u001b[1mwandb\u001b[0m: \taugmentation: yes\n",
            "\u001b[34m\u001b[1mwandb\u001b[0m: \tbatchnorm: yes\n",
            "\u001b[34m\u001b[1mwandb\u001b[0m: \tdroprate: 0.3\n",
            "\u001b[34m\u001b[1mwandb\u001b[0m: \tfc_size: 32\n",
            "\u001b[34m\u001b[1mwandb\u001b[0m: \tpre_train: resnet50\n"
          ]
        },
        {
          "data": {
            "text/html": [
              "Tracking run with wandb version 0.12.14"
            ],
            "text/plain": [
              "<IPython.core.display.HTML object>"
            ]
          },
          "metadata": {},
          "output_type": "display_data"
        },
        {
          "data": {
            "text/html": [
              "Run data is saved locally in <code>/content/wandb/run-20220409_065117-jrpi2wo8</code>"
            ],
            "text/plain": [
              "<IPython.core.display.HTML object>"
            ]
          },
          "metadata": {},
          "output_type": "display_data"
        },
        {
          "data": {
            "text/html": [
              "Syncing run <strong><a href=\"https://wandb.ai/rashmipathak/assignment_2B/runs/jrpi2wo8\" target=\"_blank\">likely-sweep-4</a></strong> to <a href=\"https://wandb.ai/rashmipathak/assignment_2B\" target=\"_blank\">Weights & Biases</a> (<a href=\"https://wandb.me/run\" target=\"_blank\">docs</a>)<br/>Sweep page:  <a href=\"https://wandb.ai/rashmipathak/assignment_2B/sweeps/zrxw5ela\" target=\"_blank\">https://wandb.ai/rashmipathak/assignment_2B/sweeps/zrxw5ela</a>"
            ],
            "text/plain": [
              "<IPython.core.display.HTML object>"
            ]
          },
          "metadata": {},
          "output_type": "display_data"
        },
        {
          "output_type": "stream",
          "name": "stdout",
          "text": [
            "Found 9000 images belonging to 10 classes.\n",
            "Found 9000 images belonging to 10 classes.\n",
            "Found 999 images belonging to 10 classes.\n",
            "Epoch 1/10\n",
            "282/282 [==============================] - 298s 1s/step - loss: 1.3021 - accuracy: 0.5907 - val_loss: 0.6143 - val_accuracy: 0.8148\n",
            "Epoch 2/10\n",
            "282/282 [==============================] - 285s 1s/step - loss: 0.8907 - accuracy: 0.7223 - val_loss: 0.5709 - val_accuracy: 0.8178\n",
            "Epoch 3/10\n",
            "282/282 [==============================] - 284s 1s/step - loss: 0.8083 - accuracy: 0.7477 - val_loss: 0.5919 - val_accuracy: 0.8078\n",
            "Epoch 4/10\n",
            "282/282 [==============================] - 284s 1s/step - loss: 0.7745 - accuracy: 0.7572 - val_loss: 0.5510 - val_accuracy: 0.8168\n",
            "Epoch 5/10\n",
            "282/282 [==============================] - 285s 1s/step - loss: 0.7370 - accuracy: 0.7664 - val_loss: 0.5266 - val_accuracy: 0.8338\n",
            "Epoch 6/10\n",
            "282/282 [==============================] - 285s 1s/step - loss: 0.7042 - accuracy: 0.7748 - val_loss: 0.5150 - val_accuracy: 0.8368\n",
            "Epoch 7/10\n",
            "282/282 [==============================] - 286s 1s/step - loss: 0.6951 - accuracy: 0.7800 - val_loss: 0.5163 - val_accuracy: 0.8448\n",
            "Epoch 8/10\n",
            "282/282 [==============================] - 285s 1s/step - loss: 0.6820 - accuracy: 0.7817 - val_loss: 0.5327 - val_accuracy: 0.8348\n",
            "Epoch 9/10\n",
            "282/282 [==============================] - 286s 1s/step - loss: 0.6784 - accuracy: 0.7831 - val_loss: 0.5193 - val_accuracy: 0.8438\n",
            "Epoch 10/10\n",
            "282/282 [==============================] - 286s 1s/step - loss: 0.6794 - accuracy: 0.7796 - val_loss: 0.5224 - val_accuracy: 0.8358\n",
            "\n"
          ]
        },
        {
          "output_type": "display_data",
          "data": {
            "text/plain": [
              "<IPython.core.display.HTML object>"
            ],
            "text/html": [
              "Waiting for W&B process to finish... <strong style=\"color:green\">(success).</strong>"
            ]
          },
          "metadata": {}
        },
        {
          "output_type": "display_data",
          "data": {
            "text/plain": [
              "VBox(children=(Label(value='0.001 MB of 0.001 MB uploaded (0.000 MB deduped)\\r'), FloatProgress(value=1.0, max…"
            ],
            "application/vnd.jupyter.widget-view+json": {
              "version_major": 2,
              "version_minor": 0,
              "model_id": "e4dab67d4a2747deabad56c8aa1f1aa6"
            }
          },
          "metadata": {}
        },
        {
          "output_type": "display_data",
          "data": {
            "text/plain": [
              "<IPython.core.display.HTML object>"
            ],
            "text/html": [
              "Synced <strong style=\"color:#cdcd00\">likely-sweep-4</strong>: <a href=\"https://wandb.ai/rashmipathak/assignment_2B/runs/jrpi2wo8\" target=\"_blank\">https://wandb.ai/rashmipathak/assignment_2B/runs/jrpi2wo8</a><br/>Synced 5 W&B file(s), 0 media file(s), 0 artifact file(s) and 0 other file(s)"
            ]
          },
          "metadata": {}
        },
        {
          "output_type": "display_data",
          "data": {
            "text/plain": [
              "<IPython.core.display.HTML object>"
            ],
            "text/html": [
              "Find logs at: <code>./wandb/run-20220409_065117-jrpi2wo8/logs</code>"
            ]
          },
          "metadata": {}
        },
        {
          "output_type": "stream",
          "name": "stderr",
          "text": [
            "\u001b[34m\u001b[1mwandb\u001b[0m: Agent Starting Run: fthrelam with config:\n",
            "\u001b[34m\u001b[1mwandb\u001b[0m: \taugmentation: yes\n",
            "\u001b[34m\u001b[1mwandb\u001b[0m: \tbatchnorm: yes\n",
            "\u001b[34m\u001b[1mwandb\u001b[0m: \tdroprate: 0.3\n",
            "\u001b[34m\u001b[1mwandb\u001b[0m: \tfc_size: 64\n",
            "\u001b[34m\u001b[1mwandb\u001b[0m: \tpre_train: inceptionv3\n"
          ]
        },
        {
          "output_type": "display_data",
          "data": {
            "text/plain": [
              "<IPython.core.display.HTML object>"
            ],
            "text/html": [
              "Tracking run with wandb version 0.12.14"
            ]
          },
          "metadata": {}
        },
        {
          "output_type": "display_data",
          "data": {
            "text/plain": [
              "<IPython.core.display.HTML object>"
            ],
            "text/html": [
              "Run data is saved locally in <code>/content/wandb/run-20220409_074003-fthrelam</code>"
            ]
          },
          "metadata": {}
        },
        {
          "output_type": "display_data",
          "data": {
            "text/plain": [
              "<IPython.core.display.HTML object>"
            ],
            "text/html": [
              "Syncing run <strong><a href=\"https://wandb.ai/rashmipathak/assignment_2B/runs/fthrelam\" target=\"_blank\">ethereal-sweep-5</a></strong> to <a href=\"https://wandb.ai/rashmipathak/assignment_2B\" target=\"_blank\">Weights & Biases</a> (<a href=\"https://wandb.me/run\" target=\"_blank\">docs</a>)<br/>Sweep page:  <a href=\"https://wandb.ai/rashmipathak/assignment_2B/sweeps/zrxw5ela\" target=\"_blank\">https://wandb.ai/rashmipathak/assignment_2B/sweeps/zrxw5ela</a>"
            ]
          },
          "metadata": {}
        },
        {
          "output_type": "stream",
          "name": "stdout",
          "text": [
            "Found 9000 images belonging to 10 classes.\n",
            "Found 9000 images belonging to 10 classes.\n",
            "Found 999 images belonging to 10 classes.\n",
            "Epoch 1/10\n",
            "282/282 [==============================] - 298s 1s/step - loss: 1.3046 - accuracy: 0.5883 - val_loss: 0.6647 - val_accuracy: 0.7928\n",
            "Epoch 2/10\n",
            "282/282 [==============================] - 287s 1s/step - loss: 0.8731 - accuracy: 0.7251 - val_loss: 0.5731 - val_accuracy: 0.8218\n",
            "Epoch 3/10\n",
            "282/282 [==============================] - 288s 1s/step - loss: 0.8059 - accuracy: 0.7508 - val_loss: 0.5580 - val_accuracy: 0.8288\n",
            "Epoch 4/10\n",
            "282/282 [==============================] - 289s 1s/step - loss: 0.7596 - accuracy: 0.7600 - val_loss: 0.5326 - val_accuracy: 0.8308\n",
            "Epoch 5/10\n",
            "282/282 [==============================] - 289s 1s/step - loss: 0.7245 - accuracy: 0.7663 - val_loss: 0.5079 - val_accuracy: 0.8418\n",
            "Epoch 6/10\n",
            "282/282 [==============================] - 288s 1s/step - loss: 0.7082 - accuracy: 0.7747 - val_loss: 0.5053 - val_accuracy: 0.8478\n",
            "Epoch 7/10\n",
            "232/282 [=======================>......] - ETA: 48s - loss: 0.6913 - accuracy: 0.7801"
          ]
        }
      ]
    },
    {
      "cell_type": "code",
      "metadata": {
        "id": "NVCitwd9LPyF",
        "colab": {
          "base_uri": "https://localhost:8080/"
        },
        "outputId": "b52dcb04-81f4-48e1-d0d8-d70b28d49af5"
      },
      "source": [
        "# Defining model with best configs to evaluate on test set\n",
        "configs =config_defaults\n",
        "batchnorm=configs['batchnorm']\n",
        "droprate=configs['droprate']\n",
        "augmentation=configs['augmentation']\n",
        "fc_size=configs['fc_size']\n",
        "pre_train = configs['pre_train']\n",
        "\n",
        "\n",
        "if pre_train == 'inceptionv3':\n",
        "    img_height = 300\n",
        "    img_width = 300\n",
        "    base_model = InceptionV3(include_top=False, weights='imagenet',input_shape=(img_height, img_width,3))\n",
        "\n",
        "if pre_train == 'inceptionresnetv2':\n",
        "    img_height = 300\n",
        "    img_width = 300\n",
        "    base_model = InceptionResNetV2(include_top=False, weights='imagenet',input_shape=(img_height, img_width,3))\n",
        "\n",
        "if pre_train == 'resnet50':\n",
        "    img_height = 224\n",
        "    img_width = 224\n",
        "    base_model = ResNet50(include_top=False, weights='imagenet',input_shape=(img_height, img_width,3))\n",
        "\n",
        "if pre_train == 'Xception':\n",
        "    img_height = 300\n",
        "    img_width = 300\n",
        "    base_model = Xception(include_top=False, weights='imagenet',input_shape=(img_height, img_width,3))  \n",
        "\n",
        "\n",
        "for layers in base_model.layers:\n",
        "    layers.trainable = False\n",
        "\n",
        "model = keras.Sequential([\n",
        "      tf.keras.Input(shape=(img_height, img_width,3,)),\n",
        "      base_model,\n",
        "      Flatten(),\n",
        "      Dense(fc_size,activation='relu'),\n",
        "      \n",
        "  ])\n",
        "if batchnorm == 'yes':\n",
        "    model.add(BatchNormalization())\n",
        "model.add(Dropout(droprate))\n",
        "model.add(Dense(fc_size, activation='relu'))\n",
        "model.add(Dropout(droprate))\n",
        "model.add(Dense(10 ,activation='softmax'))\n",
        "  \n",
        "model.compile(\n",
        "    optimizer=tf.keras.optimizers.Adam(),\n",
        "    loss=[tf.keras.losses.SparseCategoricalCrossentropy()],\n",
        "    metrics=['accuracy'],\n",
        "  )\n",
        "#Getting training data and validation data using keras library and applying augmentation there\n",
        "train_set, aug_set, val_set = customized_dataGenerator(img_height,img_width)\n",
        "if augmentation =='no' :\n",
        "    #hist=model.fit(train_set,epochs=10,validation_data=val_set,callbacks=[WandbCallback()]) \n",
        "    hist=model.fit(train_set,epochs=10,validation_data=val_set)\n",
        "  \n",
        "else:\n",
        "    #hist=model.fit(aug_set,epochs=10,validation_data=val_set,callbacks=[WandbCallback()])\n",
        "    hist=model.fit(aug_set,epochs=10,validation_data=val_set)\n"
      ],
      "execution_count": 14,
      "outputs": [
        {
          "output_type": "stream",
          "name": "stdout",
          "text": [
            "Downloading data from https://storage.googleapis.com/tensorflow/keras-applications/inception_v3/inception_v3_weights_tf_dim_ordering_tf_kernels_notop.h5\n",
            "87916544/87910968 [==============================] - 1s 0us/step\n",
            "87924736/87910968 [==============================] - 1s 0us/step\n",
            "Found 9000 images belonging to 10 classes.\n",
            "Found 9000 images belonging to 10 classes.\n",
            "Found 999 images belonging to 10 classes.\n",
            "Epoch 1/10\n",
            "282/282 [==============================] - 351s 1s/step - loss: 1.5455 - accuracy: 0.4913 - val_loss: 0.7212 - val_accuracy: 0.7768\n",
            "Epoch 2/10\n",
            "282/282 [==============================] - 312s 1s/step - loss: 1.0984 - accuracy: 0.6542 - val_loss: 0.6946 - val_accuracy: 0.7928\n",
            "Epoch 3/10\n",
            "282/282 [==============================] - 310s 1s/step - loss: 0.9954 - accuracy: 0.6892 - val_loss: 1.1938 - val_accuracy: 0.7237\n",
            "Epoch 4/10\n",
            "282/282 [==============================] - 311s 1s/step - loss: 0.9318 - accuracy: 0.7092 - val_loss: 0.5972 - val_accuracy: 0.8068\n",
            "Epoch 5/10\n",
            "282/282 [==============================] - 315s 1s/step - loss: 0.9042 - accuracy: 0.7194 - val_loss: 0.6356 - val_accuracy: 0.8018\n",
            "Epoch 6/10\n",
            "282/282 [==============================] - 313s 1s/step - loss: 0.8872 - accuracy: 0.7230 - val_loss: 0.6023 - val_accuracy: 0.8038\n",
            "Epoch 7/10\n",
            "282/282 [==============================] - 308s 1s/step - loss: 0.8584 - accuracy: 0.7319 - val_loss: 0.5990 - val_accuracy: 0.7958\n",
            "Epoch 8/10\n",
            "282/282 [==============================] - 306s 1s/step - loss: 0.8493 - accuracy: 0.7271 - val_loss: 0.5846 - val_accuracy: 0.8138\n",
            "Epoch 9/10\n",
            "282/282 [==============================] - 316s 1s/step - loss: 0.8209 - accuracy: 0.7444 - val_loss: 0.5886 - val_accuracy: 0.8018\n",
            "Epoch 10/10\n",
            "282/282 [==============================] - 326s 1s/step - loss: 0.8163 - accuracy: 0.7396 - val_loss: 0.5529 - val_accuracy: 0.8158\n"
          ]
        }
      ]
    },
    {
      "cell_type": "code",
      "metadata": {
        "colab": {
          "base_uri": "https://localhost:8080/"
        },
        "id": "Ul28lGnRy_uh",
        "outputId": "7eb4f25e-8f6f-4af1-9866-3b849acb505f"
      },
      "source": [
        "#data generator for test set\n",
        "\n",
        "test_datagen = ImageDataGenerator(\n",
        "    rescale=1.0 / 255,\n",
        "  )\n",
        "\n",
        "test_set = test_datagen.flow_from_directory(\n",
        "      test_dir,\n",
        "      target_size=(img_height, img_width),\n",
        "      color_mode='rgb',\n",
        "      class_mode='sparse',\n",
        "      shuffle=True,\n",
        "      seed=123,\n",
        "  )\n",
        "\n",
        "#evaluating model on test set\n",
        "model.evaluate(test_set)"
      ],
      "execution_count": 15,
      "outputs": [
        {
          "output_type": "stream",
          "name": "stdout",
          "text": [
            "Found 2000 images belonging to 10 classes.\n",
            "63/63 [==============================] - 35s 545ms/step - loss: 0.5444 - accuracy: 0.8295\n"
          ]
        },
        {
          "output_type": "execute_result",
          "data": {
            "text/plain": [
              "[0.5444099307060242, 0.8295000195503235]"
            ]
          },
          "metadata": {},
          "execution_count": 15
        }
      ]
    },
    {
      "cell_type": "code",
      "metadata": {
        "id": "WDZzNGje_m0E"
      },
      "source": [
        ""
      ],
      "execution_count": null,
      "outputs": []
    }
  ]
}